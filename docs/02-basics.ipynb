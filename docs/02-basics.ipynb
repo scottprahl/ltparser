{
 "cells": [
  {
   "cell_type": "markdown",
   "id": "c8abbbe9",
   "metadata": {},
   "source": [
    "# A simple parser for LTspice files\n",
    "\n",
    "**Scott Prahl**\n",
    "\n",
    "May 2022\n",
    "\n",
    "This notebook treats files with op-amps LTspice files back to a simple netlist."
   ]
  },
  {
   "cell_type": "code",
   "execution_count": null,
   "id": "4aac41e7",
   "metadata": {},
   "outputs": [],
   "source": [
    "import matplotlib.pyplot as plt\n",
    "import lcapy\n",
    "import ltparser\n",
    "\n",
    "#make matplotlib hires\n",
    "%config InlineBackend.figure_format='retina'"
   ]
  },
  {
   "cell_type": "code",
   "execution_count": null,
   "id": "0e6e53b7",
   "metadata": {},
   "outputs": [],
   "source": [
    "lt = ltparser.LTspice()\n",
    "lt.read('../tests/examples/inverting-opamp.asc')\n",
    "print(lt.contents)"
   ]
  },
  {
   "cell_type": "code",
   "execution_count": null,
   "id": "922cf5f9",
   "metadata": {},
   "outputs": [],
   "source": [
    "lt.parse()\n",
    "lt.make_netlist()\n",
    "lt.print_nodes()"
   ]
  },
  {
   "cell_type": "code",
   "execution_count": null,
   "id": "0f9ab17b",
   "metadata": {},
   "outputs": [],
   "source": [
    "lt.plot_nodes()\n"
   ]
  },
  {
   "cell_type": "code",
   "execution_count": null,
   "id": "84dd875d",
   "metadata": {},
   "outputs": [],
   "source": [
    "lt = ltparser.LTspice()\n",
    "lt.read('../tests/examples/audio-crossover2.asc')\n",
    "lt.make_netlist()\n",
    "lt.plot_nodes()\n",
    "print(lt.netlist)"
   ]
  },
  {
   "cell_type": "code",
   "execution_count": null,
   "id": "9469ef52",
   "metadata": {},
   "outputs": [],
   "source": [
    "cct=lt.circuit()\n",
    "cct.draw(scale=0.5)"
   ]
  },
  {
   "cell_type": "code",
   "execution_count": null,
   "id": "4f80f82e",
   "metadata": {},
   "outputs": [],
   "source": [
    "import imageio\n",
    "im = imageio.imread('../tests/examples/audio-crossover.png')\n",
    "plt.figure(figsize=(14,6))\n",
    "plt.imshow(im)\n",
    "plt.show()"
   ]
  },
  {
   "cell_type": "code",
   "execution_count": null,
   "id": "bd511455",
   "metadata": {},
   "outputs": [],
   "source": [
    "print(lt.netlist)"
   ]
  },
  {
   "cell_type": "code",
   "execution_count": null,
   "id": "1f3bfdc3",
   "metadata": {},
   "outputs": [],
   "source": [
    "lt.make_graph()"
   ]
  },
  {
   "cell_type": "code",
   "execution_count": null,
   "id": "5c343ab0",
   "metadata": {},
   "outputs": [],
   "source": [
    "cct=lt.circuit()\n",
    "cct.draw(scale=0.5)"
   ]
  }
 ],
 "metadata": {
  "kernelspec": {
   "display_name": "Python 3 (ipykernel)",
   "language": "python",
   "name": "python3"
  },
  "language_info": {
   "codemirror_mode": {
    "name": "ipython",
    "version": 3
   },
   "file_extension": ".py",
   "mimetype": "text/x-python",
   "name": "python",
   "nbconvert_exporter": "python",
   "pygments_lexer": "ipython3",
   "version": "3.12.3"
  }
 },
 "nbformat": 4,
 "nbformat_minor": 5
}

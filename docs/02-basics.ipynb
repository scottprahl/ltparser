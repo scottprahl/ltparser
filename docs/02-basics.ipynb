{
 "cells": [
  {
   "cell_type": "markdown",
   "id": "c8abbbe9",
   "metadata": {},
   "source": [
    "# A simple parser for LTspice files\n",
    "\n",
    "**Scott Prahl**\n",
    "\n",
    "May 2022\n",
    "\n",
    "This notebook treats files with op-amps LTspice files back to a simple netlist."
   ]
  },
  {
   "cell_type": "code",
   "execution_count": 1,
   "id": "4aac41e7",
   "metadata": {},
   "outputs": [],
   "source": [
    "import matplotlib.pyplot as plt\n",
    "import lcapy\n",
    "import ltparser\n",
    "\n",
    "#make matplotlib hires\n",
    "%config InlineBackend.figure_format='retina'"
   ]
  },
  {
   "cell_type": "code",
   "execution_count": 2,
   "id": "0e6e53b7",
   "metadata": {},
   "outputs": [
    {
     "name": "stdout",
     "output_type": "stream",
     "text": [
      "Version 4\n",
      "SHEET 1 880 680\n",
      "WIRE 464 128 288 128\n",
      "WIRE 624 128 544 128\n",
      "WIRE -208 176 -208 144\n",
      "WIRE 368 208 368 176\n",
      "WIRE 80 224 -16 224\n",
      "WIRE 288 224 288 128\n",
      "WIRE 288 224 160 224\n",
      "WIRE 336 224 288 224\n",
      "WIRE 624 240 624 128\n",
      "WIRE 624 240 400 240\n",
      "WIRE 688 240 624 240\n",
      "WIRE 336 256 176 256\n",
      "WIRE -208 288 -208 256\n",
      "WIRE -128 288 -208 288\n",
      "WIRE -16 288 -16 224\n",
      "WIRE 368 304 368 272\n",
      "WIRE -208 320 -208 288\n",
      "WIRE -128 320 -128 288\n",
      "WIRE 176 352 176 256\n",
      "WIRE -208 448 -208 400\n",
      "WIRE -16 464 -16 368\n",
      "WIRE 176 464 176 432\n",
      "FLAG -128 320 0\n",
      "FLAG -208 448 -Vs\n",
      "FLAG -208 144 +Vs\n",
      "FLAG 368 176 +Vs\n",
      "FLAG 368 304 -Vs\n",
      "FLAG 688 240 Vout\n",
      "IOPIN 688 240 Out\n",
      "FLAG 176 464 0\n",
      "FLAG -16 464 0\n",
      "SYMBOL Opamps/UniversalOpamp2 368 240 R0\n",
      "SYMATTR InstName U1\n",
      "SYMBOL res 176 208 R90\n",
      "WINDOW 0 0 56 VBottom 2\n",
      "WINDOW 3 32 56 VTop 2\n",
      "SYMATTR InstName R1\n",
      "SYMATTR Value 1k\n",
      "SYMBOL res 560 112 R90\n",
      "WINDOW 0 0 56 VBottom 2\n",
      "WINDOW 3 32 56 VTop 2\n",
      "SYMATTR InstName R2\n",
      "SYMATTR Value 5k\n",
      "SYMBOL res 192 448 R180\n",
      "WINDOW 0 36 76 Left 2\n",
      "WINDOW 3 36 40 Left 2\n",
      "SYMATTR InstName R3\n",
      "SYMATTR Value 833\n",
      "SYMBOL voltage -208 160 R0\n",
      "SYMATTR InstName V1\n",
      "SYMATTR Value 9V\n",
      "SYMBOL voltage -208 304 R0\n",
      "SYMATTR InstName V2\n",
      "SYMATTR Value 9V\n",
      "SYMBOL voltage -16 272 R0\n",
      "SYMATTR InstName Vin\n",
      "SYMATTR Value {Vin}\n",
      "TEXT 456 296 Left 2 ;Gain = -(R2/R1)\\nR3 = (R1*R2)/(R1+R2)\n",
      "TEXT 248 440 Left 2 !.step param Vin -3 3 0.2\\n.op\n",
      "\n"
     ]
    }
   ],
   "source": [
    "lt = ltparser.LTspice()\n",
    "lt.read('../tests/examples/inverting-opamp.asc')\n",
    "print(lt.contents)"
   ]
  },
  {
   "cell_type": "code",
   "execution_count": 3,
   "id": "922cf5f9",
   "metadata": {},
   "outputs": [
    {
     "ename": "ValueError",
     "evalue": "too many values to unpack (expected 3)",
     "output_type": "error",
     "traceback": [
      "\u001b[0;31m---------------------------------------------------------------------------\u001b[0m",
      "\u001b[0;31mValueError\u001b[0m                                Traceback (most recent call last)",
      "Cell \u001b[0;32mIn[3], line 2\u001b[0m\n\u001b[1;32m      1\u001b[0m lt\u001b[38;5;241m.\u001b[39mparse()\n\u001b[0;32m----> 2\u001b[0m \u001b[43mlt\u001b[49m\u001b[38;5;241;43m.\u001b[39;49m\u001b[43mmake_netlist\u001b[49m\u001b[43m(\u001b[49m\u001b[43m)\u001b[49m\n\u001b[1;32m      3\u001b[0m lt\u001b[38;5;241m.\u001b[39mprint_nodes()\n",
      "File \u001b[0;32m~/Documents/Code/git/ltparser/ltparser/ltparser.py:426\u001b[0m, in \u001b[0;36mLTspice.make_netlist\u001b[0;34m(self)\u001b[0m\n\u001b[1;32m    423\u001b[0m     \u001b[38;5;28mself\u001b[39m\u001b[38;5;241m.\u001b[39mwire_to_netlist(line)\n\u001b[1;32m    425\u001b[0m \u001b[38;5;28;01mif\u001b[39;00m \u001b[38;5;28misinstance\u001b[39m(line[\u001b[38;5;241m0\u001b[39m], pp\u001b[38;5;241m.\u001b[39mParseResults):\n\u001b[0;32m--> 426\u001b[0m     \u001b[38;5;28;43mself\u001b[39;49m\u001b[38;5;241;43m.\u001b[39;49m\u001b[43msymbol_to_netlist\u001b[49m\u001b[43m(\u001b[49m\u001b[43mline\u001b[49m\u001b[43m)\u001b[49m\n",
      "File \u001b[0;32m~/Documents/Code/git/ltparser/ltparser/ltparser.py:382\u001b[0m, in \u001b[0;36mLTspice.symbol_to_netlist\u001b[0;34m(self, line)\u001b[0m\n\u001b[1;32m    379\u001b[0m         _value2 \u001b[38;5;241m=\u001b[39m row[\u001b[38;5;241m3\u001b[39m]\n\u001b[1;32m    380\u001b[0m         \u001b[38;5;28;01mcontinue\u001b[39;00m\n\u001b[0;32m--> 382\u001b[0m node1, node2 \u001b[38;5;241m=\u001b[39m \u001b[38;5;28;43mself\u001b[39;49m\u001b[38;5;241;43m.\u001b[39;49m\u001b[43mmatch_node\u001b[49m\u001b[43m(\u001b[49m\u001b[43mx\u001b[49m\u001b[43m,\u001b[49m\u001b[43m \u001b[49m\u001b[43my\u001b[49m\u001b[43m,\u001b[49m\u001b[43m \u001b[49m\u001b[43mkind\u001b[49m\u001b[43m,\u001b[49m\u001b[43m \u001b[49m\u001b[43mdirection\u001b[49m\u001b[43m)\u001b[49m\n\u001b[1;32m    384\u001b[0m \u001b[38;5;28;01mif\u001b[39;00m value \u001b[38;5;241m!=\u001b[39m \u001b[38;5;124m'\u001b[39m\u001b[38;5;124m'\u001b[39m:\n\u001b[1;32m    385\u001b[0m     value \u001b[38;5;241m=\u001b[39m ltspice_value_to_number(value)\n",
      "File \u001b[0;32m~/Documents/Code/git/ltparser/ltparser/ltparser.py:438\u001b[0m, in \u001b[0;36mLTspice.match_node\u001b[0;34m(self, x, y, kind, direction)\u001b[0m\n\u001b[1;32m    436\u001b[0m     \u001b[38;5;28;01mdef\u001b[39;00m \u001b[38;5;21mmatch_node\u001b[39m(\u001b[38;5;28mself\u001b[39m, x, y, kind, direction):\n\u001b[1;32m    437\u001b[0m \u001b[38;5;250m        \u001b[39m\u001b[38;5;124;03m\"\"\"Match ends of simple component to existing nodes.\"\"\"\u001b[39;00m\n\u001b[0;32m--> 438\u001b[0m         x_off, y_off, length \u001b[38;5;241m=\u001b[39m component_offsets[kind]\n\u001b[1;32m    439\u001b[0m \u001b[38;5;66;03m#        print(\"Original %d %d %s x_off=%d y_off=%d length=%d\" %\u001b[39;00m\n\u001b[1;32m    440\u001b[0m \u001b[38;5;66;03m#              (x, y, direction, x_off, y_off, length))\u001b[39;00m\n\u001b[1;32m    442\u001b[0m         \u001b[38;5;28;01mif\u001b[39;00m direction \u001b[38;5;241m==\u001b[39m \u001b[38;5;124m'\u001b[39m\u001b[38;5;124mleft\u001b[39m\u001b[38;5;124m'\u001b[39m:\n",
      "\u001b[0;31mValueError\u001b[0m: too many values to unpack (expected 3)"
     ]
    }
   ],
   "source": [
    "lt.parse()\n",
    "lt.make_netlist()\n",
    "lt.print_nodes()"
   ]
  },
  {
   "cell_type": "code",
   "execution_count": null,
   "id": "0f9ab17b",
   "metadata": {},
   "outputs": [],
   "source": [
    "lt.plot_nodes()\n"
   ]
  },
  {
   "cell_type": "code",
   "execution_count": null,
   "id": "84dd875d",
   "metadata": {},
   "outputs": [],
   "source": [
    "lt = ltparser.LTspice()\n",
    "lt.read('../tests/examples/audio-crossover2.asc')\n",
    "lt.make_netlist()\n",
    "lt.plot_nodes()\n",
    "print(lt.netlist)"
   ]
  },
  {
   "cell_type": "code",
   "execution_count": null,
   "id": "9469ef52",
   "metadata": {},
   "outputs": [],
   "source": [
    "cct=lt.circuit()\n",
    "cct.draw(scale=0.5)"
   ]
  },
  {
   "cell_type": "code",
   "execution_count": null,
   "id": "4f80f82e",
   "metadata": {},
   "outputs": [],
   "source": [
    "import imageio\n",
    "im = imageio.imread('../tests/examples/audio-crossover.png')\n",
    "plt.figure(figsize=(14,6))\n",
    "plt.imshow(im)\n",
    "plt.show()"
   ]
  },
  {
   "cell_type": "code",
   "execution_count": null,
   "id": "bd511455",
   "metadata": {},
   "outputs": [],
   "source": [
    "print(lt.netlist)"
   ]
  },
  {
   "cell_type": "code",
   "execution_count": null,
   "id": "1f3bfdc3",
   "metadata": {},
   "outputs": [],
   "source": [
    "lt.make_graph()"
   ]
  },
  {
   "cell_type": "code",
   "execution_count": null,
   "id": "5c343ab0",
   "metadata": {},
   "outputs": [],
   "source": [
    "cct=lt.circuit()\n",
    "cct.draw(scale=0.5)"
   ]
  }
 ],
 "metadata": {
  "kernelspec": {
   "display_name": "Python 3 (ipykernel)",
   "language": "python",
   "name": "python3"
  },
  "language_info": {
   "codemirror_mode": {
    "name": "ipython",
    "version": 3
   },
   "file_extension": ".py",
   "mimetype": "text/x-python",
   "name": "python",
   "nbconvert_exporter": "python",
   "pygments_lexer": "ipython3",
   "version": "3.12.3"
  }
 },
 "nbformat": 4,
 "nbformat_minor": 5
}
